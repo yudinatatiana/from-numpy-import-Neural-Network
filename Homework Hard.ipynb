{
 "cells": [
  {
   "cell_type": "code",
   "execution_count": 1,
   "metadata": {},
   "outputs": [],
   "source": [
    "import numpy as np\n",
    "\n",
    "from sklearn.metrics import classification_report\n",
    "\n",
    "import torch\n",
    "from torch.utils.data import DataLoader\n",
    "from torchvision.datasets import MNIST\n",
    "from torchvision import transforms\n",
    "\n",
    "import matplotlib.pyplot as plt\n",
    "\n",
    "from tqdm import tqdm\n",
    "\n",
    "from sklearn.metrics import accuracy_score\n",
    "\n",
    "import time"
   ]
  },
  {
   "cell_type": "markdown",
   "metadata": {},
   "source": [
    "# Домашка №1\n",
    "# Усложненная\n",
    "### Эта домашка нужна для лучшего понимания, но она будет сложнее из-за использования классов и, возможно, пока непривычной форме с классами.\n",
    "Абстракции в этой домашке будут очень полезны для понимания того, что происходит в торче. Эта домашка прокачает вас гораздо сильнее, но и выполнить ее будет труднее. Вам нужно будет описать несколько слоев: `Linear`, `ReLU`, `BCELoss`.  Реализация `Sigmoid` уже есть в `our_library.layers`. Реализовав слои выше вы сможете сделать n-слойную нейронную сеть с любым количеством слоев. Это получается за счет того, что вы описали всю необходимую логику:\n",
    "- Как нужно обработать входные данные и передать их дальше;\n",
    "- Принять градиент с последующего слоя, сделать `backward` для текущего слоя и передать градиент предыдущему слою;\n",
    "- Как обновить веса, если в слоев есть обучаемые веса.\n",
    "\n",
    "Присылайте свои недоделанные сложные домашки, пусть они не пойдут совсем в стол. Я или ассистенты посмотрят, мы обсудим и доделаем.  \n",
    "Поверьте, эта домашка стоит того, чтобы ее сделать!"
   ]
  },
  {
   "cell_type": "markdown",
   "metadata": {},
   "source": [
    "# Датасет\n",
    "Мы его просто загрузим и здесь пока будет какая-то торчовая магия, которую мы разберем на следующем занятии"
   ]
  },
  {
   "cell_type": "markdown",
   "metadata": {},
   "source": [
    "### Некоторые магические трансформации, о которых пока не стоит заморачиваться\n",
    "1. Перевод картинки в тензор\n",
    "1. Нормализация картинки"
   ]
  },
  {
   "cell_type": "code",
   "execution_count": 2,
   "metadata": {},
   "outputs": [],
   "source": [
    "transform = transforms.Compose([\n",
    "    transforms.ToTensor(),\n",
    "    transforms.Normalize((0.1307,), (0.3081,))\n",
    "])"
   ]
  },
  {
   "cell_type": "markdown",
   "metadata": {},
   "source": [
    "## Загружаем датасет\n",
    "Конкретно эта часть кода понадобится нам один раз за курс и будет только в этой домашке"
   ]
  },
  {
   "cell_type": "code",
   "execution_count": 3,
   "metadata": {},
   "outputs": [
    {
     "name": "stdout",
     "output_type": "stream",
     "text": [
      "Downloading http://yann.lecun.com/exdb/mnist/train-images-idx3-ubyte.gz to ./MNIST/raw/train-images-idx3-ubyte.gz\n"
     ]
    },
    {
     "data": {
      "application/vnd.jupyter.widget-view+json": {
       "model_id": "5d25ae2155804901a77a26fc1b538ae5",
       "version_major": 2,
       "version_minor": 0
      },
      "text/plain": [
       "HBox(children=(FloatProgress(value=1.0, bar_style='info', max=1.0), HTML(value='')))"
      ]
     },
     "metadata": {},
     "output_type": "display_data"
    },
    {
     "name": "stdout",
     "output_type": "stream",
     "text": [
      "Extracting ./MNIST/raw/train-images-idx3-ubyte.gz to ./MNIST/raw\n",
      "Downloading http://yann.lecun.com/exdb/mnist/train-labels-idx1-ubyte.gz to ./MNIST/raw/train-labels-idx1-ubyte.gz\n"
     ]
    },
    {
     "data": {
      "application/vnd.jupyter.widget-view+json": {
       "model_id": "f59be8159be14d8fb9d9fbd8477cf4cb",
       "version_major": 2,
       "version_minor": 0
      },
      "text/plain": [
       "HBox(children=(FloatProgress(value=1.0, bar_style='info', max=1.0), HTML(value='')))"
      ]
     },
     "metadata": {},
     "output_type": "display_data"
    },
    {
     "name": "stdout",
     "output_type": "stream",
     "text": [
      "Extracting ./MNIST/raw/train-labels-idx1-ubyte.gz to ./MNIST/raw\n",
      "Downloading http://yann.lecun.com/exdb/mnist/t10k-images-idx3-ubyte.gz to ./MNIST/raw/t10k-images-idx3-ubyte.gz\n"
     ]
    },
    {
     "data": {
      "application/vnd.jupyter.widget-view+json": {
       "model_id": "02c947071154433c95800fce9bcca6f9",
       "version_major": 2,
       "version_minor": 0
      },
      "text/plain": [
       "HBox(children=(FloatProgress(value=1.0, bar_style='info', max=1.0), HTML(value='')))"
      ]
     },
     "metadata": {},
     "output_type": "display_data"
    },
    {
     "name": "stdout",
     "output_type": "stream",
     "text": [
      "Extracting ./MNIST/raw/t10k-images-idx3-ubyte.gz to ./MNIST/raw\n",
      "Downloading http://yann.lecun.com/exdb/mnist/t10k-labels-idx1-ubyte.gz to ./MNIST/raw/t10k-labels-idx1-ubyte.gz\n"
     ]
    },
    {
     "data": {
      "application/vnd.jupyter.widget-view+json": {
       "model_id": "0f69ba1eb14d40af91577503c4f8b8b3",
       "version_major": 2,
       "version_minor": 0
      },
      "text/plain": [
       "HBox(children=(FloatProgress(value=1.0, bar_style='info', max=1.0), HTML(value='')))"
      ]
     },
     "metadata": {},
     "output_type": "display_data"
    },
    {
     "name": "stdout",
     "output_type": "stream",
     "text": [
      "Extracting ./MNIST/raw/t10k-labels-idx1-ubyte.gz to ./MNIST/raw\n",
      "Processing...\n"
     ]
    },
    {
     "name": "stderr",
     "output_type": "stream",
     "text": [
      "/home/yudina/.local/lib/python3.6/site-packages/torchvision/datasets/mnist.py:457: UserWarning: The given NumPy array is not writeable, and PyTorch does not support non-writeable tensors. This means you can write to the underlying (supposedly non-writeable) NumPy array using the tensor. You may want to copy the array to protect its data or make it writeable before converting it to a tensor. This type of warning will be suppressed for the rest of this program. (Triggered internally at  /pytorch/torch/csrc/utils/tensor_numpy.cpp:141.)\n",
      "  return torch.from_numpy(parsed.astype(m[2], copy=False)).view(*s)\n"
     ]
    },
    {
     "name": "stdout",
     "output_type": "stream",
     "text": [
      "Done!\n"
     ]
    }
   ],
   "source": [
    "train_dataset = MNIST('.', train=True, download=True, transform=transform)\n",
    "test_dataset = MNIST('.', train=False, transform=transform)"
   ]
  },
  {
   "cell_type": "markdown",
   "metadata": {},
   "source": [
    "## Переводим его в два класса\n",
    "Это нужно для упрощения задачи до бинарной классификации. В этой домашке мы будем отличать две цифры: 1 и 7."
   ]
  },
  {
   "cell_type": "code",
   "execution_count": 4,
   "metadata": {},
   "outputs": [],
   "source": [
    "train_dataset.data = train_dataset.data[(train_dataset.targets == 3) | (train_dataset.targets == 7)]\n",
    "train_dataset.targets = train_dataset.targets[(train_dataset.targets == 3) | (train_dataset.targets == 7)]\n",
    "\n",
    "test_dataset.data = test_dataset.data[(test_dataset.targets == 3) | (test_dataset.targets == 7)]\n",
    "test_dataset.targets = test_dataset.targets[(test_dataset.targets == 3) | (test_dataset.targets == 7)]\n",
    "\n",
    "train_dataset.targets = (train_dataset.targets == 7).long()\n",
    "test_dataset.targets = (test_dataset.targets == 7).long()"
   ]
  },
  {
   "cell_type": "markdown",
   "metadata": {},
   "source": [
    "## Оборачиваем в итератор данных\n",
    "Далее в курсе мы поговорим о том, что это такое более подробно, а дальше в этой тетрадке будет несколько полезных деталей.  \n",
    "Пока что будет достаточно понимать, что мы обернули наши данные в некоторую абстракцию, итерация по которой дает нам батчи данных из нашего датасета.  "
   ]
  },
  {
   "cell_type": "code",
   "execution_count": 5,
   "metadata": {},
   "outputs": [],
   "source": [
    "train_loader = DataLoader(train_dataset, batch_size=128, shuffle=True)\n",
    "test_loader = DataLoader(test_dataset, batch_size=128, shuffle=False)"
   ]
  },
  {
   "cell_type": "markdown",
   "metadata": {},
   "source": [
    "## Порисуем данные\n",
    "\n",
    "- классу 0 соответствует цифра 3\n",
    "- классу 1 соответствует цифра 7  \n",
    "\n",
    "Выбрал эти цифры, потому что на них хуже всего метрики"
   ]
  },
  {
   "cell_type": "code",
   "execution_count": 6,
   "metadata": {},
   "outputs": [
    {
     "data": {
      "image/png": "[encoded data removed]",
      "text/plain": [
       "<Figure size 432x504 with 25 Axes>"
      ]
     },
     "metadata": {
      "needs_background": "light"
     },
     "output_type": "display_data"
    }
   ],
   "source": [
    "X, y = next(iter(train_loader))\n",
    "X = X.numpy()\n",
    "y = y.numpy()\n",
    "\n",
    "plt.figure(figsize=(6, 7))\n",
    "for i in range(25):\n",
    "    plt.subplot(5, 5, i+1)\n",
    "    plt.imshow(X[i].reshape(28, 28), cmap=plt.cm.Greys_r)\n",
    "    plt.title(y[i])\n",
    "    plt.axis('off')"
   ]
  },
  {
   "cell_type": "markdown",
   "metadata": {},
   "source": [
    "# Итерация по датасету\n",
    "- x - батч с данными\n",
    "- y - батч с таргетами к этим данным"
   ]
  },
  {
   "cell_type": "code",
   "execution_count": 7,
   "metadata": {},
   "outputs": [],
   "source": [
    "for x, y in train_loader:\n",
    "    break"
   ]
  },
  {
   "cell_type": "markdown",
   "metadata": {},
   "source": [
    "### train_loader это итератор, при проходе по которому будут выдаваться батчи данных"
   ]
  },
  {
   "cell_type": "markdown",
   "metadata": {},
   "source": [
    "## Размерность x\n",
    "- 128 - размер батча\n",
    "- 1 - количество каналов, у нас чернобелые картинки, поэтому канал 1\n",
    "- 28 - количество пикселей в длину\n",
    "- 28 - количество пикселей в ширину"
   ]
  },
  {
   "cell_type": "code",
   "execution_count": 8,
   "metadata": {},
   "outputs": [
    {
     "data": {
      "text/plain": [
       "torch.Size([128, 1, 28, 28])"
      ]
     },
     "execution_count": 8,
     "metadata": {},
     "output_type": "execute_result"
    }
   ],
   "source": [
    "x.shape"
   ]
  },
  {
   "cell_type": "code",
   "execution_count": 9,
   "metadata": {},
   "outputs": [
    {
     "data": {
      "text/plain": [
       "tensor([[[[-0.4242, -0.4242, -0.4242,  ..., -0.4242, -0.4242, -0.4242],\n",
       "          [-0.4242, -0.4242, -0.4242,  ..., -0.4242, -0.4242, -0.4242],\n",
       "          [-0.4242, -0.4242, -0.4242,  ..., -0.4242, -0.4242, -0.4242],\n",
       "          ...,\n",
       "          [-0.4242, -0.4242, -0.4242,  ..., -0.4242, -0.4242, -0.4242],\n",
       "          [-0.4242, -0.4242, -0.4242,  ..., -0.4242, -0.4242, -0.4242],\n",
       "          [-0.4242, -0.4242, -0.4242,  ..., -0.4242, -0.4242, -0.4242]]],\n",
       "\n",
       "\n",
       "        [[[-0.4242, -0.4242, -0.4242,  ..., -0.4242, -0.4242, -0.4242],\n",
       "          [-0.4242, -0.4242, -0.4242,  ..., -0.4242, -0.4242, -0.4242],\n",
       "          [-0.4242, -0.4242, -0.4242,  ..., -0.4242, -0.4242, -0.4242],\n",
       "          ...,\n",
       "          [-0.4242, -0.4242, -0.4242,  ..., -0.4242, -0.4242, -0.4242],\n",
       "          [-0.4242, -0.4242, -0.4242,  ..., -0.4242, -0.4242, -0.4242],\n",
       "          [-0.4242, -0.4242, -0.4242,  ..., -0.4242, -0.4242, -0.4242]]],\n",
       "\n",
       "\n",
       "        [[[-0.4242, -0.4242, -0.4242,  ..., -0.4242, -0.4242, -0.4242],\n",
       "          [-0.4242, -0.4242, -0.4242,  ..., -0.4242, -0.4242, -0.4242],\n",
       "          [-0.4242, -0.4242, -0.4242,  ..., -0.4242, -0.4242, -0.4242],\n",
       "          ...,\n",
       "          [-0.4242, -0.4242, -0.4242,  ..., -0.4242, -0.4242, -0.4242],\n",
       "          [-0.4242, -0.4242, -0.4242,  ..., -0.4242, -0.4242, -0.4242],\n",
       "          [-0.4242, -0.4242, -0.4242,  ..., -0.4242, -0.4242, -0.4242]]],\n",
       "\n",
       "\n",
       "        ...,\n",
       "\n",
       "\n",
       "        [[[-0.4242, -0.4242, -0.4242,  ..., -0.4242, -0.4242, -0.4242],\n",
       "          [-0.4242, -0.4242, -0.4242,  ..., -0.4242, -0.4242, -0.4242],\n",
       "          [-0.4242, -0.4242, -0.4242,  ..., -0.4242, -0.4242, -0.4242],\n",
       "          ...,\n",
       "          [-0.4242, -0.4242, -0.4242,  ..., -0.4242, -0.4242, -0.4242],\n",
       "          [-0.4242, -0.4242, -0.4242,  ..., -0.4242, -0.4242, -0.4242],\n",
       "          [-0.4242, -0.4242, -0.4242,  ..., -0.4242, -0.4242, -0.4242]]],\n",
       "\n",
       "\n",
       "        [[[-0.4242, -0.4242, -0.4242,  ..., -0.4242, -0.4242, -0.4242],\n",
       "          [-0.4242, -0.4242, -0.4242,  ..., -0.4242, -0.4242, -0.4242],\n",
       "          [-0.4242, -0.4242, -0.4242,  ..., -0.4242, -0.4242, -0.4242],\n",
       "          ...,\n",
       "          [-0.4242, -0.4242, -0.4242,  ..., -0.4242, -0.4242, -0.4242],\n",
       "          [-0.4242, -0.4242, -0.4242,  ..., -0.4242, -0.4242, -0.4242],\n",
       "          [-0.4242, -0.4242, -0.4242,  ..., -0.4242, -0.4242, -0.4242]]],\n",
       "\n",
       "\n",
       "        [[[-0.4242, -0.4242, -0.4242,  ..., -0.4242, -0.4242, -0.4242],\n",
       "          [-0.4242, -0.4242, -0.4242,  ..., -0.4242, -0.4242, -0.4242],\n",
       "          [-0.4242, -0.4242, -0.4242,  ..., -0.4242, -0.4242, -0.4242],\n",
       "          ...,\n",
       "          [-0.4242, -0.4242, -0.4242,  ..., -0.4242, -0.4242, -0.4242],\n",
       "          [-0.4242, -0.4242, -0.4242,  ..., -0.4242, -0.4242, -0.4242],\n",
       "          [-0.4242, -0.4242, -0.4242,  ..., -0.4242, -0.4242, -0.4242]]]])"
      ]
     },
     "execution_count": 9,
     "metadata": {},
     "output_type": "execute_result"
    }
   ],
   "source": [
    "x"
   ]
  },
  {
   "cell_type": "markdown",
   "metadata": {},
   "source": [
    "## Просто выпрямим нашу матрицу в один вектор\n",
    "### То есть каждая фича в векторе это значение пикселя\n",
    "### Для нашей игрушечной задачи этого будет достаточно"
   ]
  },
  {
   "cell_type": "code",
   "execution_count": 10,
   "metadata": {},
   "outputs": [
    {
     "data": {
      "text/plain": [
       "(128, 784)"
      ]
     },
     "execution_count": 10,
     "metadata": {},
     "output_type": "execute_result"
    }
   ],
   "source": [
    "x.view(x.shape[0], -1).numpy().shape"
   ]
  },
  {
   "cell_type": "markdown",
   "metadata": {},
   "source": [
    "### x.numpy()\n",
    "Это перевод торчового тензора (некоторая абстракция, о которой мы будем говорить позже на курсе) в numpy массив"
   ]
  },
  {
   "cell_type": "code",
   "execution_count": 11,
   "metadata": {},
   "outputs": [],
   "source": [
    "for x, y in train_loader:\n",
    "    x = x.view(x.shape[0], -1).numpy()\n",
    "    y = y.numpy()\n",
    "    break"
   ]
  },
  {
   "cell_type": "code",
   "execution_count": 12,
   "metadata": {},
   "outputs": [
    {
     "data": {
      "text/plain": [
       "array([[-0.42421296, -0.42421296, -0.42421296, ..., -0.42421296,\n",
       "        -0.42421296, -0.42421296],\n",
       "       [-0.42421296, -0.42421296, -0.42421296, ..., -0.42421296,\n",
       "        -0.42421296, -0.42421296],\n",
       "       [-0.42421296, -0.42421296, -0.42421296, ..., -0.42421296,\n",
       "        -0.42421296, -0.42421296],\n",
       "       ...,\n",
       "       [-0.42421296, -0.42421296, -0.42421296, ..., -0.42421296,\n",
       "        -0.42421296, -0.42421296],\n",
       "       [-0.42421296, -0.42421296, -0.42421296, ..., -0.42421296,\n",
       "        -0.42421296, -0.42421296],\n",
       "       [-0.42421296, -0.42421296, -0.42421296, ..., -0.42421296,\n",
       "        -0.42421296, -0.42421296]], dtype=float32)"
      ]
     },
     "execution_count": 12,
     "metadata": {},
     "output_type": "execute_result"
    }
   ],
   "source": [
    "x"
   ]
  },
  {
   "cell_type": "markdown",
   "metadata": {},
   "source": [
    "### Размерность\n",
    "- количество примеров в батче\n",
    "- количество фичей"
   ]
  },
  {
   "cell_type": "code",
   "execution_count": 13,
   "metadata": {},
   "outputs": [
    {
     "data": {
      "text/plain": [
       "(128, 784)"
      ]
     },
     "execution_count": 13,
     "metadata": {},
     "output_type": "execute_result"
    }
   ],
   "source": [
    "x.shape"
   ]
  },
  {
   "cell_type": "markdown",
   "metadata": {},
   "source": [
    "# Таргеты\n",
    "- классу 0 соответствует цифра 3\n",
    "- классу 1 соответствует цифра 7"
   ]
  },
  {
   "cell_type": "code",
   "execution_count": 14,
   "metadata": {},
   "outputs": [
    {
     "data": {
      "text/plain": [
       "array([0, 1, 1, 1, 0, 0, 0, 0, 0, 1, 0, 1, 0, 1, 1, 1, 1, 1, 1, 0, 1, 1,\n",
       "       0, 0, 0, 0, 0, 1, 1, 1, 1, 0, 1, 0, 1, 1, 0, 0, 1, 0, 0, 0, 0, 1,\n",
       "       0, 1, 0, 1, 1, 0, 0, 1, 1, 1, 1, 0, 0, 0, 0, 0, 1, 1, 0, 0, 1, 0,\n",
       "       0, 1, 1, 0, 1, 1, 0, 1, 1, 1, 1, 0, 0, 1, 1, 1, 1, 1, 0, 1, 0, 0,\n",
       "       0, 0, 1, 1, 1, 1, 0, 1, 1, 0, 1, 1, 1, 0, 0, 1, 0, 0, 0, 1, 0, 1,\n",
       "       0, 1, 1, 0, 1, 1, 0, 0, 1, 1, 0, 1, 1, 0, 1, 1, 1, 1])"
      ]
     },
     "execution_count": 14,
     "metadata": {},
     "output_type": "execute_result"
    }
   ],
   "source": [
    "y"
   ]
  },
  {
   "cell_type": "markdown",
   "metadata": {},
   "source": [
    "# Итерация по эпохам"
   ]
  },
  {
   "cell_type": "code",
   "execution_count": 15,
   "metadata": {},
   "outputs": [
    {
     "name": "stdout",
     "output_type": "stream",
     "text": [
      "Эпоха - 1, прошли - 100.00 % датасета\n",
      "Эпоха - 2, прошли - 100.00 % датасета\n",
      "Эпоха - 3, прошли - 100.00 % датасета\n"
     ]
    }
   ],
   "source": [
    "# количество эпох - полных проходов по датасету\n",
    "epochs = 3\n",
    "\n",
    "for n_epoch in range(epochs):\n",
    "    \n",
    "    dataset_passed_samples = 0\n",
    "    \n",
    "    for x, y in train_loader:\n",
    "        \n",
    "        # вот здесь мы могли бы как-то манипулировать с данными\n",
    "        # например, учить, но пока этого делать не будет\n",
    "        # только демонстрация\n",
    "        \n",
    "        time.sleep(0.01)\n",
    "        \n",
    "        dataset_passed_samples += x.shape[0]\n",
    "        \n",
    "        dataset_passed_percent = dataset_passed_samples * 100 / train_loader.dataset.data.shape[0]\n",
    "        \n",
    "        print(f'Эпоха - {n_epoch + 1}, прошли - {dataset_passed_percent:.2f} % датасета', end='\\r')\n",
    "        \n",
    "    print('\\r')"
   ]
  },
  {
   "cell_type": "markdown",
   "metadata": {},
   "source": [
    "# Небольшие пояснения по numpy"
   ]
  },
  {
   "cell_type": "code",
   "execution_count": 16,
   "metadata": {},
   "outputs": [
    {
     "data": {
      "text/plain": [
       "array([[0.72748594, 0.14159912, 0.36056273, ..., 0.66039984, 0.04098076,\n",
       "        0.43174788],\n",
       "       [0.90013094, 0.56989326, 0.77135446, ..., 0.41226881, 0.27674879,\n",
       "        0.7222911 ],\n",
       "       [0.73112334, 0.62017466, 0.66176031, ..., 0.35789213, 0.25788421,\n",
       "        0.22857913],\n",
       "       ...,\n",
       "       [0.07856205, 0.48867514, 0.26581826, ..., 0.54494289, 0.57565271,\n",
       "        0.90316949],\n",
       "       [0.28270507, 0.5428532 , 0.82704974, ..., 0.98686212, 0.63736793,\n",
       "        0.52355599],\n",
       "       [0.9263827 , 0.83057209, 0.55174459, ..., 0.92424763, 0.91698478,\n",
       "        0.40854331]])"
      ]
     },
     "execution_count": 16,
     "metadata": {},
     "output_type": "execute_result"
    }
   ],
   "source": [
    "# таким образом мы создаем матрицу 64 на 512 с рандомными значениями\n",
    "x = np.random.rand(64, 512)\n",
    "x"
   ]
  },
  {
   "cell_type": "code",
   "execution_count": 17,
   "metadata": {},
   "outputs": [
    {
     "data": {
      "text/plain": [
       "array([[ 0.21107519, -1.934705  , -0.89008386, ...,  0.02121814,\n",
       "        -3.19297311, -0.65350724],\n",
       "       [ 0.70502068, -0.23752787,  0.33538044, ..., -0.7161141 ,\n",
       "        -1.2080552 ,  0.19637738],\n",
       "       [ 0.22136822, -0.09313752,  0.02507486, ..., -0.89943687,\n",
       "        -1.28874033, -1.42362439],\n",
       "       ...,\n",
       "       [-2.53769454, -0.47725396, -1.25428308, ..., -0.31011152,\n",
       "        -0.22087468,  0.71387007],\n",
       "       [-1.18342893, -0.31622675,  0.49412084, ...,  0.9606719 ,\n",
       "        -0.0441703 , -0.37300043],\n",
       "       [ 0.78171706,  0.50420945, -0.29024793, ...,  0.77545845,\n",
       "         0.75419667, -0.7282497 ]])"
      ]
     },
     "execution_count": 17,
     "metadata": {},
     "output_type": "execute_result"
    }
   ],
   "source": [
    "# большинство функций применяются к каждому элементу массива\n",
    "# здесь мы каждый элемент массива возвели в квадрат и прибавили к получившемуся значению логарифм элемента матрицы \n",
    "x ** 2 + np.log(x)"
   ]
  },
  {
   "cell_type": "code",
   "execution_count": 18,
   "metadata": {},
   "outputs": [],
   "source": [
    "y = np.random.rand(512, 1024)\n",
    "# скалярное произведение\n",
    "res = np.dot(x, y)"
   ]
  },
  {
   "cell_type": "code",
   "execution_count": 19,
   "metadata": {},
   "outputs": [
    {
     "data": {
      "text/plain": [
       "array([[129.53948291, 122.78535611, 121.72521604, ..., 124.22792046,\n",
       "        129.57822349, 127.89985477],\n",
       "       [122.08618047, 112.69378845, 116.25554141, ..., 117.7625256 ,\n",
       "        119.96663146, 121.76852957],\n",
       "       [126.6932299 , 115.52798283, 117.5561619 , ..., 118.93684612,\n",
       "        122.68836548, 122.55193053],\n",
       "       ...,\n",
       "       [125.17139156, 116.33037341, 122.66254306, ..., 126.1262753 ,\n",
       "        127.60209254, 130.26483133],\n",
       "       [136.30355056, 123.07229417, 125.66277286, ..., 131.16849291,\n",
       "        130.94786071, 129.62530829],\n",
       "       [126.76476422, 118.97346746, 123.7028933 , ..., 123.87385221,\n",
       "        121.88657973, 126.81108435]])"
      ]
     },
     "execution_count": 19,
     "metadata": {},
     "output_type": "execute_result"
    }
   ],
   "source": [
    "res"
   ]
  },
  {
   "cell_type": "code",
   "execution_count": 20,
   "metadata": {},
   "outputs": [
    {
     "data": {
      "text/plain": [
       "True"
      ]
     },
     "execution_count": 20,
     "metadata": {},
     "output_type": "execute_result"
    }
   ],
   "source": [
    "res.shape == (x.shape[0], y.shape[1])"
   ]
  },
  {
   "cell_type": "markdown",
   "metadata": {},
   "source": [
    "# Импортируем нашу библиотеку\n",
    "В ней реализованы некоторые полезные методы, в модуле `layers` есть реализация сигмоиды. Остальное вам смотреть необязательно, это некоторые дополнения, упрощающие вам жизнь."
   ]
  },
  {
   "cell_type": "code",
   "execution_count": 21,
   "metadata": {},
   "outputs": [],
   "source": [
    "from our_library import layers, wrapper, tools"
   ]
  },
  {
   "cell_type": "markdown",
   "metadata": {},
   "source": [
    "## Реализуйте слои:\n",
    "- Linear - линейная трансформация (не забудьте, что у нас в этом слое как раз есть обучаемые параметры)\n",
    "- ReLU\n",
    "- BCELoss - Binary Cross Entropy\n",
    "\n",
    "\n",
    "## Вы можете реализовать как здесь, так и в файла layers\n",
    "\n",
    "- TIP: np.expand_dims(y, 1) для BCE, так как BCE на вход принимает просто вектор размерностью (батч сайз, 1)\n",
    "\n",
    "## Также внутри layers есть код для Negative Log-Likelihood (сразу с софтмаксом) для примера"
   ]
  },
  {
   "cell_type": "markdown",
   "metadata": {},
   "source": [
    "# Пример c сигмоидой\n",
    "В `our_library.layers` также это есть"
   ]
  },
  {
   "cell_type": "code",
   "execution_count": 22,
   "metadata": {},
   "outputs": [],
   "source": [
    "class Sigmoid:\n",
    "\n",
    "    def __init__(self):\n",
    "\n",
    "        self._sigmoid_result = None\n",
    "\n",
    "    def forward(self, x):\n",
    "\n",
    "        self._sigmoid_result = 1 / (1 + np.exp(-x))\n",
    "\n",
    "        return self._sigmoid_result\n",
    "\n",
    "    def backward(self, grad):\n",
    "        \"\"\"\n",
    "        :grad: градиент от предыдущего слоя\n",
    "        :return: градиент для следующего слоя\n",
    "        \"\"\"\n",
    "\n",
    "        new_grad = self._sigmoid_result * (1 - self._sigmoid_result) * grad\n",
    "\n",
    "        return new_grad\n",
    "\n",
    "    def step(self, learning_step):\n",
    "\n",
    "        pass"
   ]
  },
  {
   "cell_type": "markdown",
   "metadata": {},
   "source": [
    "# Тестирование"
   ]
  },
  {
   "cell_type": "code",
   "execution_count": 23,
   "metadata": {},
   "outputs": [],
   "source": [
    "x = np.array([[0.91551091, 0.15073826, 0.77137556, 0.59352491],\n",
    "              [0.81126142, 0.1194849 , 0.29651178, 0.19066982]])\n",
    "\n",
    "correct_forward_result = np.array([[0.71412654, 0.53761337, 0.68381838, 0.64417351],\n",
    "                                   [0.69237824, 0.52983574, 0.57358957, 0.54752357]])\n",
    "\n",
    "correct_backward_result = np.array([[0.20414982, 0.24858523, 0.2162108 , 0.229214  ],\n",
    "                                    [0.21299061, 0.24910983, 0.24458457, 0.24774151]])"
   ]
  },
  {
   "cell_type": "code",
   "execution_count": 24,
   "metadata": {},
   "outputs": [],
   "source": [
    "sigmoid_layer = Sigmoid()\n",
    "forward_result = sigmoid_layer.forward(x)\n",
    "backward_result = sigmoid_layer.backward(np.ones_like(x))"
   ]
  },
  {
   "cell_type": "code",
   "execution_count": 25,
   "metadata": {},
   "outputs": [],
   "source": [
    "# значения должны быть близкими\n",
    "assert np.allclose(correct_forward_result, forward_result)"
   ]
  },
  {
   "cell_type": "code",
   "execution_count": 26,
   "metadata": {},
   "outputs": [],
   "source": [
    "# значения должны быть близкими\n",
    "assert np.allclose(correct_backward_result, backward_result)"
   ]
  },
  {
   "cell_type": "markdown",
   "metadata": {},
   "source": [
    "# Линейный слой"
   ]
  },
  {
   "cell_type": "code",
   "execution_count": 27,
   "metadata": {},
   "outputs": [],
   "source": [
    "class Linear:\n",
    "\n",
    "    def __init__(self, in_features, out_features):\n",
    "        \n",
    "        # инициализируем веса\n",
    "        self.weight = np.random.rand(in_features, out_features) * 0.01\n",
    "        self.bias = np.zeros(out_features,)\n",
    "        self.x = None\n",
    "        \n",
    "        # сохраняем градиент для весов\n",
    "        self._grad_weight = None\n",
    "        self._grad_bias = None \n",
    "\n",
    "    def forward(self, x):  \n",
    "        self.x = x\n",
    "        return np.dot(self.x, self.weight) + self.bias\n",
    "\n",
    "    def backward(self, grad):\n",
    "        self._grad_weight = np.dot(np.transpose(self.x), grad)\n",
    "        self._grad_bias = np.sum(grad, axis=0) \n",
    "        grad = np.dot(grad, np.transpose(self.weight))\n",
    "        return grad\n",
    "        \n",
    "    def step(self, learning_rate):        \n",
    "        self.weight -= self._grad_weight * learning_rate\n",
    "        self.bias -= self._grad_bias * learning_rate"
   ]
  },
  {
   "cell_type": "markdown",
   "metadata": {},
   "source": [
    "# Тестирование"
   ]
  },
  {
   "cell_type": "code",
   "execution_count": 28,
   "metadata": {},
   "outputs": [],
   "source": [
    "correct_forward_result = np.array([[0.01148086, 0.01477317, 0.00917651],\n",
    "                                   [0.00887036, 0.00972334, 0.00526646]])\n",
    "\n",
    "previous_grad = np.array([[0.01595814, 0.85148336, 0.9980065 ],\n",
    "                          [0.73044998, 0.18287682, 0.41246361]])\n",
    "\n",
    "correct_backward_result = np.array([[0.01089683, 0.00842654, 0.00822628, 0.00729307],\n",
    "                                    [0.00958704, 0.00833055, 0.00209236, 0.00543544]])\n",
    "\n",
    "correct_grad_weight = np.array([[0.60719574, 0.92790321, 1.24830165],\n",
    "                                [0.08968325, 0.15020214, 0.19972094],\n",
    "                                [0.22889674, 0.71103859, 0.89213814],\n",
    "                                [0.14874632, 0.54024567, 0.67098608]])\n",
    "\n",
    "correct_grad_bias = np.array([0.74640812, 1.03436018, 1.41047011])"
   ]
  },
  {
   "cell_type": "code",
   "execution_count": 29,
   "metadata": {},
   "outputs": [],
   "source": [
    "linear = Linear(in_features=4, out_features=3)"
   ]
  },
  {
   "cell_type": "code",
   "execution_count": 30,
   "metadata": {},
   "outputs": [],
   "source": [
    "# так как внутри слоя мы объвяляем наши веса рандомно (домножая на 0.01), то давайте присвоим им для теста конкретные значения\n",
    "\n",
    "linear.weight = np.array([[0.00879391, 0.0075844 , 0.00430709],\n",
    "                          [0.00884834, 0.00921104, 0.00044317],\n",
    "                          [0.00011441, 0.00822498, 0.00122346],\n",
    "                          [0.00338301, 0.0001627 , 0.00711473]])\n",
    "\n",
    "linear.bias = np.array([0., 0., 0.])"
   ]
  },
  {
   "cell_type": "code",
   "execution_count": 31,
   "metadata": {},
   "outputs": [],
   "source": [
    "forward = linear.forward(x)\n",
    "backward = linear.backward(previous_grad)"
   ]
  },
  {
   "cell_type": "code",
   "execution_count": 33,
   "metadata": {},
   "outputs": [],
   "source": [
    "# значения должны быть близкими\n",
    "assert np.allclose(correct_forward_result, forward)"
   ]
  },
  {
   "cell_type": "code",
   "execution_count": 34,
   "metadata": {},
   "outputs": [],
   "source": [
    "# значения должны быть близкими\n",
    "assert np.allclose(correct_backward_result, backward)"
   ]
  },
  {
   "cell_type": "code",
   "execution_count": 35,
   "metadata": {},
   "outputs": [],
   "source": [
    "# значения должны быть близкими\n",
    "assert np.allclose(linear._grad_weight, correct_grad_weight)"
   ]
  },
  {
   "cell_type": "code",
   "execution_count": 36,
   "metadata": {},
   "outputs": [],
   "source": [
    "# значения должны быть близкими\n",
    "assert np.allclose(linear._grad_bias, correct_grad_bias)"
   ]
  },
  {
   "cell_type": "markdown",
   "metadata": {},
   "source": [
    "# ReLU"
   ]
  },
  {
   "cell_type": "code",
   "execution_count": 37,
   "metadata": {},
   "outputs": [],
   "source": [
    "class ReLU:\n",
    "\n",
    "    def __init__(self):\n",
    "        self.x = None\n",
    "\n",
    "    def forward(self, x):\n",
    "        self.x = x\n",
    "        return np.maximum(self.x, 0)\n",
    "\n",
    "    def backward(self, prev_grad):\n",
    "        return np.where(self.x >= 0, prev_grad, 0)\n",
    "\n",
    "    def step(self, learning_rate):\n",
    "        pass"
   ]
  },
  {
   "cell_type": "markdown",
   "metadata": {},
   "source": [
    "# Тестирование"
   ]
  },
  {
   "cell_type": "code",
   "execution_count": 38,
   "metadata": {},
   "outputs": [],
   "source": [
    "x = np.array([[ 0.86811233, -0.23718669, -0.18401917, -0.37591633],\n",
    "              [-0.40626018,  0.37746975, -0.46929233,  0.79067681]])\n",
    "\n",
    "correct_forward_result = np.array([[0.86811233, 0.        , 0.        , 0.        ],\n",
    "                                   [0.        , 0.37746975, 0.        , 0.79067681]])\n",
    "\n",
    "previous_grad = np.array([[0.22436157, 0.61897707, 0.67895832, 0.72428618],\n",
    "                          [0.71231319, 0.87345215, 0.91129578, 0.90625846]])\n",
    "\n",
    "correct_backward_result = np.array([[0.22436157, 0.        , 0.        , 0.        ],\n",
    "                                    [0.        , 0.87345215, 0.        , 0.90625846]])"
   ]
  },
  {
   "cell_type": "code",
   "execution_count": 39,
   "metadata": {},
   "outputs": [],
   "source": [
    "relu = ReLU()"
   ]
  },
  {
   "cell_type": "code",
   "execution_count": 40,
   "metadata": {},
   "outputs": [],
   "source": [
    "forward = relu.forward(x)\n",
    "backward = relu.backward(previous_grad)"
   ]
  },
  {
   "cell_type": "code",
   "execution_count": 41,
   "metadata": {},
   "outputs": [],
   "source": [
    "# значения должны быть близкими\n",
    "assert np.allclose(correct_forward_result, forward)"
   ]
  },
  {
   "cell_type": "code",
   "execution_count": 42,
   "metadata": {},
   "outputs": [],
   "source": [
    "# значения должны быть близкими\n",
    "assert np.allclose(correct_backward_result, backward)"
   ]
  },
  {
   "cell_type": "markdown",
   "metadata": {},
   "source": [
    "# BCE test"
   ]
  },
  {
   "cell_type": "markdown",
   "metadata": {},
   "source": [
    "### Не забудьте добавить np.expand_dims(y, 1) в forward"
   ]
  },
  {
   "cell_type": "code",
   "execution_count": 43,
   "metadata": {},
   "outputs": [],
   "source": [
    "class BCELoss:\n",
    "\n",
    "    def __init__(self):\n",
    "        self.x = None\n",
    "        self.y = None\n",
    "\n",
    "    def forward(self, x, y):\n",
    "        y = np.expand_dims(y, 1)\n",
    "        \n",
    "        self.x = x\n",
    "        self.y = y\n",
    "    \n",
    "        return - np.average(np.log(1 - self.x) * (1 - self.y) + np.log(self.x) * self.y)\n",
    "\n",
    "    def backward(self):\n",
    "        return (self.x - self.y) / (self.x - self.x * self.x) / self.x.shape[0]\n",
    "\n",
    "    def step(self, learning_rate):\n",
    "        pass"
   ]
  },
  {
   "cell_type": "markdown",
   "metadata": {},
   "source": [
    "# Тестирование"
   ]
  },
  {
   "cell_type": "code",
   "execution_count": 44,
   "metadata": {},
   "outputs": [],
   "source": [
    "x = np.array([[0.76242307],\n",
    "              [0.0908412 ],\n",
    "              [0.60176646],\n",
    "              [0.09606798]])\n",
    "\n",
    "y = np.array([1, 0, 1, 0])\n",
    "\n",
    "correct_forward_result = 0.24384403491500606\n",
    "\n",
    "correct_backward_result = np.array([[-0.32790194],\n",
    "                                    [ 0.27497946],\n",
    "                                    [-0.41544356],\n",
    "                                    [ 0.27656947]])"
   ]
  },
  {
   "cell_type": "code",
   "execution_count": 45,
   "metadata": {},
   "outputs": [],
   "source": [
    "loss = BCELoss()"
   ]
  },
  {
   "cell_type": "code",
   "execution_count": 46,
   "metadata": {},
   "outputs": [],
   "source": [
    "forward = loss.forward(x, y)\n",
    "backward = loss.backward()"
   ]
  },
  {
   "cell_type": "code",
   "execution_count": 48,
   "metadata": {},
   "outputs": [],
   "source": [
    "# значения должны быть близкими\n",
    "assert np.allclose(correct_forward_result, forward)"
   ]
  },
  {
   "cell_type": "code",
   "execution_count": 49,
   "metadata": {},
   "outputs": [],
   "source": [
    "# значения должны быть близкими\n",
    "assert np.allclose(correct_backward_result, backward)"
   ]
  },
  {
   "cell_type": "markdown",
   "metadata": {},
   "source": [
    "## Реализуйте обертку над слоями - нейронную сеть\n",
    "- TIP 1: modules - это список слоев, которые вы сделали выше. Порядок важен\n",
    "- TIP 2: обновление весов можно сделать циклом\n",
    "- TIP 3: forward идет в одну сторону по слоям, а backward в другую\n",
    "- TIP 4: В backward функции потерь мы не передаем предыдущий градиент, потому что это начало backward, то есть последний слой нашей сети\n",
    "- TIP 5: forward и backward ничего не должны отдавать, в них должны быть расчитаны градиенты для каждого слоя\n",
    "- TIP 6: в step нужно пройтись по всем слоям и обновить веса"
   ]
  },
  {
   "cell_type": "code",
   "execution_count": 50,
   "metadata": {},
   "outputs": [],
   "source": [
    "class NeuralNetwork:\n",
    "\n",
    "    def __init__(self, modules):\n",
    "\n",
    "        # список слоев\n",
    "        self.modules = modules\n",
    "\n",
    "    def forward(self, x):\n",
    "        for module in self.modules:\n",
    "            x = module.forward(x)\n",
    "        return x\n",
    "\n",
    "    def backward(self, grad):\n",
    "        \"\"\"\n",
    "        :grad: градиент от функции потерь\n",
    "        :return: возвращать ничего не потребуется\n",
    "        \"\"\"\n",
    "        for module in self.modules[::-1]:\n",
    "            grad = module.backward(grad)\n",
    "\n",
    "    def step(self, learning_rate):\n",
    "        for module in self.modules:\n",
    "            module.step(learning_rate)"
   ]
  },
  {
   "cell_type": "markdown",
   "metadata": {},
   "source": [
    "## Реализуйте обертку над моделью"
   ]
  },
  {
   "cell_type": "code",
   "execution_count": 51,
   "metadata": {},
   "outputs": [],
   "source": [
    "class MNISTWrapper(wrapper.Wrapper):\n",
    "\n",
    "    def train_batch(self, x, y):\n",
    "        \"\"\"\n",
    "        Нужно реализовать одну итерацию обучения модели:\n",
    "        1. Рассчет forward\n",
    "        2. Рассчет функции потерь\n",
    "        3. Рассчет backward от функции потерь\n",
    "        4. Рассчет backward по модели, передавая туда значение градиента по функции потерь\n",
    "        5. Обновление весов с помощью step\n",
    "        :param x: входные данные np.array with shape (batch_size, n_features)\n",
    "        :param y: предсказания np.array with shape (batch_size, n_classes)\n",
    "        :return:\n",
    "        loss_batch - значение функции потерь, просто скаляр\n",
    "        prediction - матрица предсказаний вашей модели\n",
    "\n",
    "        напомню важные штуки, которые знает наш класс:\n",
    "        self.model\n",
    "        self.loss\n",
    "        self.learning_rate\n",
    "        \"\"\"\n",
    "        # КОД ЗДЕСЬ        \n",
    "        prediction = self.model.forward(x)\n",
    "        loss_batch = self.loss.forward(prediction, y)\n",
    "        loss_backward = self.loss.backward()\n",
    "        model_backward = self.model.backward(loss_backward)\n",
    "        self.model.step(self.learning_rate)\n",
    "        return loss_batch, prediction"
   ]
  },
  {
   "cell_type": "code",
   "execution_count": 57,
   "metadata": {},
   "outputs": [],
   "source": [
    "# задайте гиперпараметры\n",
    "learning_rate = 0.01\n",
    "epochs = 30\n",
    "\n",
    "# задайте слои в свою нейронную сеть, например, 3 слоя\n",
    "neural_network = NeuralNetwork([\n",
    "    Linear(784, 512),\n",
    "    Linear(512, 256),\n",
    "    ReLU(),\n",
    "    Linear(256, 128),\n",
    "    Linear(128, 64),\n",
    "    ReLU(),\n",
    "    Linear(64, 32),\n",
    "    Linear(32, 1),\n",
    "    Sigmoid()\n",
    "])\n",
    "\n",
    "loss = BCELoss()"
   ]
  },
  {
   "cell_type": "code",
   "execution_count": 58,
   "metadata": {},
   "outputs": [],
   "source": [
    "classifier = MNISTWrapper(model=neural_network,\n",
    "                          loss=loss,\n",
    "                          learning_rate=learning_rate)"
   ]
  },
  {
   "cell_type": "markdown",
   "metadata": {},
   "source": [
    "## Обучение модели"
   ]
  },
  {
   "cell_type": "code",
   "execution_count": 59,
   "metadata": {},
   "outputs": [
    {
     "name": "stderr",
     "output_type": "stream",
     "text": [
      "Epoch 1: 100%|██████████| 97/97 [00:03<00:00, 25.77it/s, loss=0.684, metric=0.628]\n",
      "Epoch 2: 100%|██████████| 97/97 [00:03<00:00, 26.59it/s, loss=0.652, metric=0.674]\n",
      "Epoch 3: 100%|██████████| 97/97 [00:03<00:00, 26.27it/s, loss=0.615, metric=0.711]\n",
      "Epoch 4: 100%|██████████| 97/97 [00:03<00:00, 26.59it/s, loss=0.571, metric=0.757]\n",
      "Epoch 5: 100%|██████████| 97/97 [00:03<00:00, 26.50it/s, loss=0.522, metric=0.796]\n",
      "Epoch 6: 100%|██████████| 97/97 [00:03<00:00, 26.73it/s, loss=0.473, metric=0.829]\n",
      "Epoch 7: 100%|██████████| 97/97 [00:03<00:00, 25.97it/s, loss=0.428, metric=0.854]\n",
      "Epoch 8: 100%|██████████| 97/97 [00:03<00:00, 25.58it/s, loss=0.387, metric=0.878]\n",
      "Epoch 9: 100%|██████████| 97/97 [00:03<00:00, 25.74it/s, loss=0.352, metric=0.892]\n",
      "Epoch 10: 100%|██████████| 97/97 [00:03<00:00, 25.87it/s, loss=0.323, metric=0.905]\n",
      "Epoch 11: 100%|██████████| 97/97 [00:04<00:00, 22.87it/s, loss=0.298, metric=0.913]\n",
      "Epoch 12: 100%|██████████| 97/97 [00:04<00:00, 22.38it/s, loss=0.276, metric=0.921]\n",
      "Epoch 13: 100%|██████████| 97/97 [00:04<00:00, 22.37it/s, loss=0.258, metric=0.926]\n",
      "Epoch 14: 100%|██████████| 97/97 [00:04<00:00, 22.09it/s, loss=0.242, metric=0.931]\n",
      "Epoch 15: 100%|██████████| 97/97 [00:04<00:00, 22.59it/s, loss=0.228, metric=0.936]\n",
      "Epoch 16: 100%|██████████| 97/97 [00:04<00:00, 22.60it/s, loss=0.217, metric=0.94] \n",
      "Epoch 17: 100%|██████████| 97/97 [00:04<00:00, 22.63it/s, loss=0.206, metric=0.942]\n",
      "Epoch 18: 100%|██████████| 97/97 [00:04<00:00, 22.24it/s, loss=0.196, metric=0.945]\n",
      "Epoch 19: 100%|██████████| 97/97 [00:04<00:00, 21.96it/s, loss=0.187, metric=0.947]\n",
      "Epoch 20: 100%|██████████| 97/97 [00:04<00:00, 22.39it/s, loss=0.179, metric=0.949]\n",
      "Epoch 21: 100%|██████████| 97/97 [00:04<00:00, 22.45it/s, loss=0.172, metric=0.951]\n",
      "Epoch 22: 100%|██████████| 97/97 [00:04<00:00, 22.42it/s, loss=0.165, metric=0.953]\n",
      "Epoch 23: 100%|██████████| 97/97 [00:04<00:00, 22.24it/s, loss=0.159, metric=0.955]\n",
      "Epoch 24: 100%|██████████| 97/97 [00:04<00:00, 22.40it/s, loss=0.153, metric=0.956]\n",
      "Epoch 25: 100%|██████████| 97/97 [00:04<00:00, 22.46it/s, loss=0.148, metric=0.957]\n"
     ]
    }
   ],
   "source": [
    "classifier.train(train_loader, test_loader, epochs=epochs)"
   ]
  },
  {
   "cell_type": "code",
   "execution_count": 60,
   "metadata": {},
   "outputs": [
    {
     "data": {
      "image/png": "[encoded data removed]",
      "text/plain": [
       "<Figure size 1152x864 with 2 Axes>"
      ]
     },
     "metadata": {
      "needs_background": "light"
     },
     "output_type": "display_data"
    }
   ],
   "source": [
    "classifier.plot()"
   ]
  },
  {
   "cell_type": "code",
   "execution_count": null,
   "metadata": {},
   "outputs": [],
   "source": []
  }
 ],
 "metadata": {
  "kernelspec": {
   "display_name": "Python 3",
   "language": "python",
   "name": "python3"
  },
  "language_info": {
   "codemirror_mode": {
    "name": "ipython",
    "version": 3
   },
   "file_extension": ".py",
   "mimetype": "text/x-python",
   "name": "python",
   "nbconvert_exporter": "python",
   "pygments_lexer": "ipython3",
   "version": "3.6.9"
  }
 },
 "nbformat": 4,
 "nbformat_minor": 2
}
